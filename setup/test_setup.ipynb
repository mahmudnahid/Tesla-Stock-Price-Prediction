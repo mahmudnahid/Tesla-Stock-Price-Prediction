{
 "cells": [
  {
   "cell_type": "code",
   "execution_count": 3,
   "metadata": {},
   "outputs": [
    {
     "name": "stdout",
     "output_type": "stream",
     "text": [
      "Tensorflow version: 2.11.0\n",
      "scikit-learn version: 1.2.1\n",
      "numpy version: 1.23.5\n",
      "pandas version: 1.5.3\n",
      "Succeeded\n"
     ]
    }
   ],
   "source": [
    "try:\n",
    "    import sklearn\n",
    "    import pandas as pd\n",
    "    import numpy as np\n",
    "    import tensorflow as tf\n",
    "    \n",
    "    print(f'Tensorflow version: {tf.__version__}')\n",
    "    print(f'scikit-learn version: {sklearn.__version__}') \n",
    "    print(f'numpy version: {np.__version__}') \n",
    "    print(f'pandas version: {pd.__version__}')    \n",
    "    print('Succeeded')\n",
    "except:\n",
    "    print(\"Didn't succeed\")"
   ]
  },
  {
   "cell_type": "code",
   "execution_count": null,
   "metadata": {},
   "outputs": [],
   "source": []
  }
 ],
 "metadata": {
  "kernelspec": {
   "display_name": "tensorflow_cpu",
   "language": "python",
   "name": "python3"
  },
  "language_info": {
   "codemirror_mode": {
    "name": "ipython",
    "version": 3
   },
   "file_extension": ".py",
   "mimetype": "text/x-python",
   "name": "python",
   "nbconvert_exporter": "python",
   "pygments_lexer": "ipython3",
   "version": "3.10.9"
  },
  "orig_nbformat": 4,
  "vscode": {
   "interpreter": {
    "hash": "86bd4b29e74b9c82447e29c9fd0433a5f9f2a7784f8062e6dafbacad01fc88a8"
   }
  }
 },
 "nbformat": 4,
 "nbformat_minor": 2
}
